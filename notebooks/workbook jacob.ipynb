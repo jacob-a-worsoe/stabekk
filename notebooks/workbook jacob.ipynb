{
 "cells": [
  {
   "cell_type": "code",
   "execution_count": 3,
   "metadata": {},
   "outputs": [],
   "source": [
    "import sys\n",
    "import os\n",
    "\n",
    "# Get the absolute path of parent folder\n",
    "current_dir = os.path.abspath(\"\")\n",
    "parent_dir = os.path.join(current_dir, os.pardir)\n",
    "\n",
    "# Add to sys.path\n",
    "sys.path.append(parent_dir)"
   ]
  },
  {
   "cell_type": "code",
   "execution_count": 4,
   "metadata": {},
   "outputs": [],
   "source": [
    "import ml_combat as ml\n",
    "from ml_combat import data\n",
    "from ml_combat.MetaModel import MetaModel"
   ]
  },
  {
   "cell_type": "code",
   "execution_count": 2,
   "metadata": {},
   "outputs": [],
   "source": [
    "from prophet import Prophet\n",
    "import pandas as pd\n",
    "import numpy as np"
   ]
  },
  {
   "cell_type": "code",
   "execution_count": 3,
   "metadata": {},
   "outputs": [],
   "source": [
    "class ProphetModel(MetaModel):\n",
    "    \n",
    "    def __init__(self):\n",
    "        super().__init__(\"Prophet\")\n",
    "        \n",
    "    def preprocess(self, df):\n",
    "        \"\"\"\n",
    "        \"\"\"\n",
    "        temp_df = df.copy()\n",
    "\n",
    "        temp_df['total_rad_1h:J'] = df['diffuse_rad_1h:J'] + df['direct_rad_1h:J']\n",
    "\n",
    "        temp_df = temp_df.dropna(axis=0, how=\"all\", subset=\"total_rad_1h:J\")\n",
    "\n",
    "        if('y' in temp_df.columns.tolist()):\n",
    "            temp_df = temp_df.dropna(axis=0, how=\"all\", subset=\"y\")\n",
    "\n",
    "        temp_df.fillna(0, inplace=True)\n",
    "        \n",
    "        return temp_df\n",
    "\n",
    "    def train(self, df):\n",
    "        \"\"\"\n",
    "        \"\"\"\n",
    "        df = self.preprocess(df)\n",
    "\n",
    "        self.prophet_model = Prophet()\n",
    "        # for feat in [i for i in df.columns.to_list() if i not in ['location', 'ds', 'y', 'weather_data_type']]:\n",
    "        self.prophet_model.add_regressor('total_rad_1h:J')\n",
    "        self.prophet_model.fit(df)\n",
    "\n",
    "    def predict(self, df):\n",
    "        \"\"\"\n",
    "        \"\"\"\n",
    "        df = self.preprocess(df)\n",
    "\n",
    "        forecast = self.prophet_model.predict(df)\n",
    "        # fig = prophet_model.plot_components(forecast)\n",
    "        temp_ret = forecast[['ds', 'yhat']].rename(columns={'yhat':'y_pred'})\n",
    "\n",
    "        return temp_ret\n",
    "    \n"
   ]
  },
  {
   "cell_type": "code",
   "execution_count": 4,
   "metadata": {},
   "outputs": [],
   "source": [
    "# df[df['snow_density:kgm3'].notna()]\n",
    "# df[df.isna().any(axis=1)]\n",
    "\n",
    "# df[df['visibility:m'].isna()]"
   ]
  },
  {
   "cell_type": "code",
   "execution_count": null,
   "metadata": {},
   "outputs": [],
   "source": []
  },
  {
   "cell_type": "code",
   "execution_count": 25,
   "metadata": {},
   "outputs": [
    {
     "name": "stderr",
     "output_type": "stream",
     "text": [
      "11:48:19 - cmdstanpy - INFO - Chain [1] start processing\n"
     ]
    },
    {
     "name": "stdout",
     "output_type": "stream",
     "text": [
      "Testing Prophet\n"
     ]
    },
    {
     "name": "stderr",
     "output_type": "stream",
     "text": [
      "11:48:20 - cmdstanpy - INFO - Chain [1] done processing\n"
     ]
    },
    {
     "name": "stdout",
     "output_type": "stream",
     "text": [
      "Train-Test ratio:1.0008809020436928 achieved MAE 346.8157370892518\n"
     ]
    },
    {
     "name": "stderr",
     "output_type": "stream",
     "text": [
      "11:48:21 - cmdstanpy - INFO - Chain [1] start processing\n",
      "11:48:22 - cmdstanpy - INFO - Chain [1] done processing\n"
     ]
    },
    {
     "name": "stdout",
     "output_type": "stream",
     "text": [
      "Train-Test ratio:2.0008809020436926 achieved MAE 387.6145769442664\n"
     ]
    },
    {
     "name": "stderr",
     "output_type": "stream",
     "text": [
      "11:48:23 - cmdstanpy - INFO - Chain [1] start processing\n",
      "11:48:24 - cmdstanpy - INFO - Chain [1] done processing\n"
     ]
    },
    {
     "name": "stdout",
     "output_type": "stream",
     "text": [
      "Train-Test ratio:3.0008809020436926 achieved MAE 410.0770603400472\n"
     ]
    },
    {
     "name": "stderr",
     "output_type": "stream",
     "text": [
      "11:48:26 - cmdstanpy - INFO - Chain [1] start processing\n",
      "11:48:28 - cmdstanpy - INFO - Chain [1] done processing\n"
     ]
    },
    {
     "name": "stdout",
     "output_type": "stream",
     "text": [
      "Train-Test ratio:4.000880902043693 achieved MAE 336.8192848425941\n"
     ]
    },
    {
     "name": "stderr",
     "output_type": "stream",
     "text": [
      "11:48:30 - cmdstanpy - INFO - Chain [1] start processing\n",
      "11:48:33 - cmdstanpy - INFO - Chain [1] done processing\n"
     ]
    },
    {
     "name": "stdout",
     "output_type": "stream",
     "text": [
      "Train-Test ratio:5.000880902043693 achieved MAE 249.19093592890155\n",
      "----------------- RESULT HERE 346.1035190290122\n"
     ]
    },
    {
     "name": "stderr",
     "output_type": "stream",
     "text": [
      "11:48:35 - cmdstanpy - INFO - Chain [1] start processing\n",
      "11:48:39 - cmdstanpy - INFO - Chain [1] done processing\n",
      "/var/folders/rn/zrxftcb56xg254wsfbhrtbt80000gn/T/ipykernel_24967/1521326395.py:8: UserWarning: Boolean Series key will be reindexed to match DataFrame index.\n",
      "  temp_df = temp_df[df.weather_data_type == 'observed']\n",
      "11:48:39 - cmdstanpy - INFO - Chain [1] start processing\n"
     ]
    },
    {
     "name": "stdout",
     "output_type": "stream",
     "text": [
      "Testing Prophet\n"
     ]
    },
    {
     "name": "stderr",
     "output_type": "stream",
     "text": [
      "11:48:39 - cmdstanpy - INFO - Chain [1] done processing\n"
     ]
    },
    {
     "name": "stdout",
     "output_type": "stream",
     "text": [
      "Train-Test ratio:1.0008215239268843 achieved MAE 60.823373436351694\n"
     ]
    },
    {
     "name": "stderr",
     "output_type": "stream",
     "text": [
      "11:48:40 - cmdstanpy - INFO - Chain [1] start processing\n",
      "11:48:41 - cmdstanpy - INFO - Chain [1] done processing\n"
     ]
    },
    {
     "name": "stdout",
     "output_type": "stream",
     "text": [
      "Train-Test ratio:2.0008215239268843 achieved MAE 97.73108598926572\n"
     ]
    },
    {
     "name": "stderr",
     "output_type": "stream",
     "text": [
      "11:48:42 - cmdstanpy - INFO - Chain [1] start processing\n",
      "11:48:43 - cmdstanpy - INFO - Chain [1] done processing\n"
     ]
    },
    {
     "name": "stdout",
     "output_type": "stream",
     "text": [
      "Train-Test ratio:3.0008215239268843 achieved MAE 45.062494723754895\n"
     ]
    },
    {
     "name": "stderr",
     "output_type": "stream",
     "text": [
      "11:48:45 - cmdstanpy - INFO - Chain [1] start processing\n",
      "11:48:46 - cmdstanpy - INFO - Chain [1] done processing\n"
     ]
    },
    {
     "name": "stdout",
     "output_type": "stream",
     "text": [
      "Train-Test ratio:4.000821523926884 achieved MAE 96.3815669247695\n"
     ]
    },
    {
     "name": "stderr",
     "output_type": "stream",
     "text": [
      "11:48:48 - cmdstanpy - INFO - Chain [1] start processing\n",
      "11:48:51 - cmdstanpy - INFO - Chain [1] done processing\n"
     ]
    },
    {
     "name": "stdout",
     "output_type": "stream",
     "text": [
      "Train-Test ratio:5.000821523926884 achieved MAE 47.76870516733394\n",
      "----------------- RESULT HERE 69.55344524829516\n"
     ]
    },
    {
     "name": "stderr",
     "output_type": "stream",
     "text": [
      "11:48:53 - cmdstanpy - INFO - Chain [1] start processing\n",
      "11:48:58 - cmdstanpy - INFO - Chain [1] done processing\n",
      "/var/folders/rn/zrxftcb56xg254wsfbhrtbt80000gn/T/ipykernel_24967/1521326395.py:8: UserWarning: Boolean Series key will be reindexed to match DataFrame index.\n",
      "  temp_df = temp_df[df.weather_data_type == 'observed']\n",
      "11:48:58 - cmdstanpy - INFO - Chain [1] start processing\n"
     ]
    },
    {
     "name": "stdout",
     "output_type": "stream",
     "text": [
      "Testing Prophet\n"
     ]
    },
    {
     "name": "stderr",
     "output_type": "stream",
     "text": [
      "11:48:58 - cmdstanpy - INFO - Chain [1] done processing\n",
      "11:48:59 - cmdstanpy - INFO - Chain [1] start processing\n"
     ]
    },
    {
     "name": "stdout",
     "output_type": "stream",
     "text": [
      "Train-Test ratio:1.0012966804979253 achieved MAE 65.37090261622258\n"
     ]
    },
    {
     "name": "stderr",
     "output_type": "stream",
     "text": [
      "11:49:00 - cmdstanpy - INFO - Chain [1] done processing\n"
     ]
    },
    {
     "name": "stdout",
     "output_type": "stream",
     "text": [
      "Train-Test ratio:2.0012966804979255 achieved MAE 63.82997170237396\n"
     ]
    },
    {
     "name": "stderr",
     "output_type": "stream",
     "text": [
      "11:49:01 - cmdstanpy - INFO - Chain [1] start processing\n",
      "11:49:02 - cmdstanpy - INFO - Chain [1] done processing\n"
     ]
    },
    {
     "name": "stdout",
     "output_type": "stream",
     "text": [
      "Train-Test ratio:3.0012966804979255 achieved MAE 43.1546901223127\n"
     ]
    },
    {
     "name": "stderr",
     "output_type": "stream",
     "text": [
      "11:49:03 - cmdstanpy - INFO - Chain [1] start processing\n",
      "11:49:04 - cmdstanpy - INFO - Chain [1] done processing\n"
     ]
    },
    {
     "name": "stdout",
     "output_type": "stream",
     "text": [
      "Train-Test ratio:4.0012966804979255 achieved MAE 45.168879365594584\n"
     ]
    },
    {
     "name": "stderr",
     "output_type": "stream",
     "text": [
      "11:49:05 - cmdstanpy - INFO - Chain [1] start processing\n",
      "11:49:06 - cmdstanpy - INFO - Chain [1] done processing\n"
     ]
    },
    {
     "name": "stdout",
     "output_type": "stream",
     "text": [
      "Train-Test ratio:5.0012966804979255 achieved MAE 31.211890623073625\n",
      "----------------- RESULT HERE 49.747266885915494\n"
     ]
    },
    {
     "name": "stderr",
     "output_type": "stream",
     "text": [
      "11:49:08 - cmdstanpy - INFO - Chain [1] start processing\n",
      "11:49:09 - cmdstanpy - INFO - Chain [1] done processing\n"
     ]
    },
    {
     "name": "stdout",
     "output_type": "stream",
     "text": [
      "Done creating a linear regression model!\n"
     ]
    }
   ],
   "source": [
    "df = ml.data.get_training_flattened()\n",
    "test = ml.data.get_testing_flattened()\n",
    "ret = pd.DataFrame()\n",
    "for location in ['A', 'B', 'C']:\n",
    "    temp_df = df[df['location']==location]\n",
    "\n",
    "    if location != \"A\":\n",
    "        temp_df = temp_df[df.weather_data_type == 'observed']\n",
    "\n",
    "    lr = ProphetModel()\n",
    "    print(\"----------------- RESULT HERE\", np.mean(lr.test(temp_df)))\n",
    "\n",
    "    lr.train(temp_df)\n",
    "    ret = pd.concat([ret, lr.predict(test[test['location']==location])])\n",
    "\n",
    "print(\"Done creating a linear regression model!\")"
   ]
  },
  {
   "cell_type": "code",
   "execution_count": 26,
   "metadata": {},
   "outputs": [
    {
     "data": {
      "text/html": [
       "<div>\n",
       "<style scoped>\n",
       "    .dataframe tbody tr th:only-of-type {\n",
       "        vertical-align: middle;\n",
       "    }\n",
       "\n",
       "    .dataframe tbody tr th {\n",
       "        vertical-align: top;\n",
       "    }\n",
       "\n",
       "    .dataframe thead th {\n",
       "        text-align: right;\n",
       "    }\n",
       "</style>\n",
       "<table border=\"1\" class=\"dataframe\">\n",
       "  <thead>\n",
       "    <tr style=\"text-align: right;\">\n",
       "      <th></th>\n",
       "      <th>id</th>\n",
       "      <th>prediction</th>\n",
       "    </tr>\n",
       "  </thead>\n",
       "  <tbody>\n",
       "    <tr>\n",
       "      <th>0</th>\n",
       "      <td>0</td>\n",
       "      <td>26.597097</td>\n",
       "    </tr>\n",
       "    <tr>\n",
       "      <th>1</th>\n",
       "      <td>1</td>\n",
       "      <td>33.739131</td>\n",
       "    </tr>\n",
       "    <tr>\n",
       "      <th>2</th>\n",
       "      <td>2</td>\n",
       "      <td>29.505813</td>\n",
       "    </tr>\n",
       "    <tr>\n",
       "      <th>3</th>\n",
       "      <td>3</td>\n",
       "      <td>55.278284</td>\n",
       "    </tr>\n",
       "    <tr>\n",
       "      <th>4</th>\n",
       "      <td>4</td>\n",
       "      <td>298.035157</td>\n",
       "    </tr>\n",
       "    <tr>\n",
       "      <th>...</th>\n",
       "      <td>...</td>\n",
       "      <td>...</td>\n",
       "    </tr>\n",
       "    <tr>\n",
       "      <th>2155</th>\n",
       "      <td>2155</td>\n",
       "      <td>70.740189</td>\n",
       "    </tr>\n",
       "    <tr>\n",
       "      <th>2156</th>\n",
       "      <td>2156</td>\n",
       "      <td>46.783561</td>\n",
       "    </tr>\n",
       "    <tr>\n",
       "      <th>2157</th>\n",
       "      <td>2157</td>\n",
       "      <td>26.121931</td>\n",
       "    </tr>\n",
       "    <tr>\n",
       "      <th>2158</th>\n",
       "      <td>2158</td>\n",
       "      <td>17.905157</td>\n",
       "    </tr>\n",
       "    <tr>\n",
       "      <th>2159</th>\n",
       "      <td>2159</td>\n",
       "      <td>17.667029</td>\n",
       "    </tr>\n",
       "  </tbody>\n",
       "</table>\n",
       "<p>2160 rows × 2 columns</p>\n",
       "</div>"
      ],
      "text/plain": [
       "        id  prediction\n",
       "0        0   26.597097\n",
       "1        1   33.739131\n",
       "2        2   29.505813\n",
       "3        3   55.278284\n",
       "4        4  298.035157\n",
       "...    ...         ...\n",
       "2155  2155   70.740189\n",
       "2156  2156   46.783561\n",
       "2157  2157   26.121931\n",
       "2158  2158   17.905157\n",
       "2159  2159   17.667029\n",
       "\n",
       "[2160 rows x 2 columns]"
      ]
     },
     "execution_count": 26,
     "metadata": {},
     "output_type": "execute_result"
    }
   ],
   "source": [
    "ret = ret.reset_index(drop=True).reset_index().drop(columns=[\"ds\"]).rename(columns={'index': 'id', 'y_pred': 'prediction'})\n",
    "ret.prediction = ret.prediction.apply(lambda a : max(a, 0))\n",
    "ret"
   ]
  },
  {
   "cell_type": "code",
   "execution_count": 27,
   "metadata": {},
   "outputs": [],
   "source": [
    "ret.to_csv(\"prophet_tweaked.csv\", index=False)"
   ]
  },
  {
   "cell_type": "code",
   "execution_count": null,
   "metadata": {},
   "outputs": [],
   "source": []
  },
  {
   "cell_type": "code",
   "execution_count": 5,
   "metadata": {},
   "outputs": [
    {
     "name": "stderr",
     "output_type": "stream",
     "text": [
      "/var/folders/rn/zrxftcb56xg254wsfbhrtbt80000gn/T/ipykernel_24967/3351428815.py:5: UserWarning: Boolean Series key will be reindexed to match DataFrame index.\n",
      "  temp_df = temp_df[df.weather_data_type == 'observed']\n",
      "11:28:07 - cmdstanpy - INFO - Chain [1] start processing\n"
     ]
    },
    {
     "name": "stdout",
     "output_type": "stream",
     "text": [
      "Testing Prophet\n"
     ]
    },
    {
     "name": "stderr",
     "output_type": "stream",
     "text": [
      "11:28:07 - cmdstanpy - INFO - Chain [1] done processing\n"
     ]
    },
    {
     "name": "stdout",
     "output_type": "stream",
     "text": [
      "Train-Test ratio:1.0006067961165048 achieved MAE 530.1876666525234\n"
     ]
    },
    {
     "name": "stderr",
     "output_type": "stream",
     "text": [
      "11:28:08 - cmdstanpy - INFO - Chain [1] start processing\n",
      "11:28:09 - cmdstanpy - INFO - Chain [1] done processing\n"
     ]
    },
    {
     "name": "stdout",
     "output_type": "stream",
     "text": [
      "Train-Test ratio:2.000606796116505 achieved MAE 259.9216498385317\n"
     ]
    },
    {
     "name": "stderr",
     "output_type": "stream",
     "text": [
      "11:28:10 - cmdstanpy - INFO - Chain [1] start processing\n",
      "11:28:12 - cmdstanpy - INFO - Chain [1] done processing\n"
     ]
    },
    {
     "name": "stdout",
     "output_type": "stream",
     "text": [
      "Train-Test ratio:3.000606796116505 achieved MAE 417.94016890818455\n"
     ]
    },
    {
     "name": "stderr",
     "output_type": "stream",
     "text": [
      "11:28:13 - cmdstanpy - INFO - Chain [1] start processing\n",
      "11:28:15 - cmdstanpy - INFO - Chain [1] done processing\n"
     ]
    },
    {
     "name": "stdout",
     "output_type": "stream",
     "text": [
      "Train-Test ratio:4.000606796116505 achieved MAE 240.73292436950007\n"
     ]
    },
    {
     "name": "stderr",
     "output_type": "stream",
     "text": [
      "11:28:17 - cmdstanpy - INFO - Chain [1] start processing\n",
      "11:28:19 - cmdstanpy - INFO - Chain [1] done processing\n",
      "/var/folders/rn/zrxftcb56xg254wsfbhrtbt80000gn/T/ipykernel_24967/3351428815.py:5: UserWarning: Boolean Series key will be reindexed to match DataFrame index.\n",
      "  temp_df = temp_df[df.weather_data_type == 'observed']\n",
      "11:28:20 - cmdstanpy - INFO - Chain [1] start processing\n"
     ]
    },
    {
     "name": "stdout",
     "output_type": "stream",
     "text": [
      "Train-Test ratio:5.000606796116505 achieved MAE 381.2536422984788\n",
      "----------------- RESULT HERE 366.00721041344366\n",
      "Testing Prophet\n"
     ]
    },
    {
     "name": "stderr",
     "output_type": "stream",
     "text": [
      "11:28:20 - cmdstanpy - INFO - Chain [1] done processing\n",
      "11:28:21 - cmdstanpy - INFO - Chain [1] start processing\n"
     ]
    },
    {
     "name": "stdout",
     "output_type": "stream",
     "text": [
      "Train-Test ratio:1.0008215239268843 achieved MAE 60.823373436351694\n"
     ]
    },
    {
     "name": "stderr",
     "output_type": "stream",
     "text": [
      "11:28:22 - cmdstanpy - INFO - Chain [1] done processing\n"
     ]
    },
    {
     "name": "stdout",
     "output_type": "stream",
     "text": [
      "Train-Test ratio:2.0008215239268843 achieved MAE 97.73108598926572\n"
     ]
    },
    {
     "name": "stderr",
     "output_type": "stream",
     "text": [
      "11:28:23 - cmdstanpy - INFO - Chain [1] start processing\n",
      "11:28:24 - cmdstanpy - INFO - Chain [1] done processing\n"
     ]
    },
    {
     "name": "stdout",
     "output_type": "stream",
     "text": [
      "Train-Test ratio:3.0008215239268843 achieved MAE 45.062494723754895\n"
     ]
    },
    {
     "name": "stderr",
     "output_type": "stream",
     "text": [
      "11:28:26 - cmdstanpy - INFO - Chain [1] start processing\n",
      "11:28:27 - cmdstanpy - INFO - Chain [1] done processing\n"
     ]
    },
    {
     "name": "stdout",
     "output_type": "stream",
     "text": [
      "Train-Test ratio:4.000821523926884 achieved MAE 96.3815669247695\n"
     ]
    },
    {
     "name": "stderr",
     "output_type": "stream",
     "text": [
      "11:28:29 - cmdstanpy - INFO - Chain [1] start processing\n",
      "11:28:32 - cmdstanpy - INFO - Chain [1] done processing\n",
      "/var/folders/rn/zrxftcb56xg254wsfbhrtbt80000gn/T/ipykernel_24967/3351428815.py:5: UserWarning: Boolean Series key will be reindexed to match DataFrame index.\n",
      "  temp_df = temp_df[df.weather_data_type == 'observed']\n",
      "11:28:33 - cmdstanpy - INFO - Chain [1] start processing\n"
     ]
    },
    {
     "name": "stdout",
     "output_type": "stream",
     "text": [
      "Train-Test ratio:5.000821523926884 achieved MAE 47.76870516733394\n",
      "----------------- RESULT HERE 69.55344524829516\n",
      "Testing Prophet\n"
     ]
    },
    {
     "name": "stderr",
     "output_type": "stream",
     "text": [
      "11:28:33 - cmdstanpy - INFO - Chain [1] done processing\n",
      "11:28:34 - cmdstanpy - INFO - Chain [1] start processing\n"
     ]
    },
    {
     "name": "stdout",
     "output_type": "stream",
     "text": [
      "Train-Test ratio:1.0012966804979253 achieved MAE 65.37090261622258\n"
     ]
    },
    {
     "name": "stderr",
     "output_type": "stream",
     "text": [
      "11:28:35 - cmdstanpy - INFO - Chain [1] done processing\n"
     ]
    },
    {
     "name": "stdout",
     "output_type": "stream",
     "text": [
      "Train-Test ratio:2.0012966804979255 achieved MAE 63.82997170237396\n"
     ]
    },
    {
     "name": "stderr",
     "output_type": "stream",
     "text": [
      "11:28:35 - cmdstanpy - INFO - Chain [1] start processing\n",
      "11:28:36 - cmdstanpy - INFO - Chain [1] done processing\n"
     ]
    },
    {
     "name": "stdout",
     "output_type": "stream",
     "text": [
      "Train-Test ratio:3.0012966804979255 achieved MAE 43.1546901223127\n"
     ]
    },
    {
     "name": "stderr",
     "output_type": "stream",
     "text": [
      "11:28:37 - cmdstanpy - INFO - Chain [1] start processing\n",
      "11:28:38 - cmdstanpy - INFO - Chain [1] done processing\n"
     ]
    },
    {
     "name": "stdout",
     "output_type": "stream",
     "text": [
      "Train-Test ratio:4.0012966804979255 achieved MAE 45.168879365594584\n"
     ]
    },
    {
     "name": "stderr",
     "output_type": "stream",
     "text": [
      "11:28:40 - cmdstanpy - INFO - Chain [1] start processing\n",
      "11:28:41 - cmdstanpy - INFO - Chain [1] done processing\n"
     ]
    },
    {
     "name": "stdout",
     "output_type": "stream",
     "text": [
      "Train-Test ratio:5.0012966804979255 achieved MAE 31.211890623073625\n",
      "----------------- RESULT HERE 49.747266885915494\n",
      "Done creating a linear regression model!\n"
     ]
    }
   ],
   "source": [
    "df = ml.data.get_training_flattened()\n",
    "for location in ['A', 'B', 'C']:\n",
    "    temp_df = df[df['location']==location]\n",
    "\n",
    "    temp_df = temp_df[df.weather_data_type == 'observed']\n",
    "\n",
    "    lr = ProphetModel()\n",
    "    print(\"----------------- RESULT HERE\", np.mean(lr.test(temp_df)))\n",
    "\n",
    "print(\"Done creating a linear regression model!\")"
   ]
  },
  {
   "cell_type": "code",
   "execution_count": 6,
   "metadata": {},
   "outputs": [
    {
     "name": "stderr",
     "output_type": "stream",
     "text": [
      "11:28:43 - cmdstanpy - INFO - Chain [1] start processing\n"
     ]
    },
    {
     "name": "stdout",
     "output_type": "stream",
     "text": [
      "Testing Prophet\n"
     ]
    },
    {
     "name": "stderr",
     "output_type": "stream",
     "text": [
      "11:28:43 - cmdstanpy - INFO - Chain [1] done processing\n"
     ]
    },
    {
     "name": "stdout",
     "output_type": "stream",
     "text": [
      "Train-Test ratio:1.0008809020436928 achieved MAE 346.8157370892518\n"
     ]
    },
    {
     "name": "stderr",
     "output_type": "stream",
     "text": [
      "11:28:45 - cmdstanpy - INFO - Chain [1] start processing\n",
      "11:28:45 - cmdstanpy - INFO - Chain [1] done processing\n"
     ]
    },
    {
     "name": "stdout",
     "output_type": "stream",
     "text": [
      "Train-Test ratio:2.0008809020436926 achieved MAE 387.6145769442664\n"
     ]
    },
    {
     "name": "stderr",
     "output_type": "stream",
     "text": [
      "11:28:47 - cmdstanpy - INFO - Chain [1] start processing\n",
      "11:28:48 - cmdstanpy - INFO - Chain [1] done processing\n"
     ]
    },
    {
     "name": "stdout",
     "output_type": "stream",
     "text": [
      "Train-Test ratio:3.0008809020436926 achieved MAE 410.0770603400472\n"
     ]
    },
    {
     "name": "stderr",
     "output_type": "stream",
     "text": [
      "11:28:50 - cmdstanpy - INFO - Chain [1] start processing\n",
      "11:28:52 - cmdstanpy - INFO - Chain [1] done processing\n"
     ]
    },
    {
     "name": "stdout",
     "output_type": "stream",
     "text": [
      "Train-Test ratio:4.000880902043693 achieved MAE 336.8192848425941\n"
     ]
    },
    {
     "name": "stderr",
     "output_type": "stream",
     "text": [
      "11:28:54 - cmdstanpy - INFO - Chain [1] start processing\n",
      "11:28:56 - cmdstanpy - INFO - Chain [1] done processing\n",
      "11:28:57 - cmdstanpy - INFO - Chain [1] start processing\n"
     ]
    },
    {
     "name": "stdout",
     "output_type": "stream",
     "text": [
      "Train-Test ratio:5.000880902043693 achieved MAE 249.19093592890155\n",
      "----------------- RESULT HERE 346.1035190290122\n",
      "Testing Prophet\n"
     ]
    },
    {
     "name": "stderr",
     "output_type": "stream",
     "text": [
      "11:28:58 - cmdstanpy - INFO - Chain [1] done processing\n"
     ]
    },
    {
     "name": "stdout",
     "output_type": "stream",
     "text": [
      "Train-Test ratio:1.0009142439202778 achieved MAE 62.316077008302024\n"
     ]
    },
    {
     "name": "stderr",
     "output_type": "stream",
     "text": [
      "11:28:59 - cmdstanpy - INFO - Chain [1] start processing\n",
      "11:28:59 - cmdstanpy - INFO - Chain [1] done processing\n"
     ]
    },
    {
     "name": "stdout",
     "output_type": "stream",
     "text": [
      "Train-Test ratio:2.000914243920278 achieved MAE 130.35720074626607\n"
     ]
    },
    {
     "name": "stderr",
     "output_type": "stream",
     "text": [
      "11:29:01 - cmdstanpy - INFO - Chain [1] start processing\n",
      "11:29:02 - cmdstanpy - INFO - Chain [1] done processing\n"
     ]
    },
    {
     "name": "stdout",
     "output_type": "stream",
     "text": [
      "Train-Test ratio:3.000914243920278 achieved MAE 84.16510888676031\n"
     ]
    },
    {
     "name": "stderr",
     "output_type": "stream",
     "text": [
      "11:29:04 - cmdstanpy - INFO - Chain [1] start processing\n",
      "11:29:07 - cmdstanpy - INFO - Chain [1] done processing\n"
     ]
    },
    {
     "name": "stdout",
     "output_type": "stream",
     "text": [
      "Train-Test ratio:4.000914243920278 achieved MAE 74.33771923582101\n"
     ]
    },
    {
     "name": "stderr",
     "output_type": "stream",
     "text": [
      "11:29:08 - cmdstanpy - INFO - Chain [1] start processing\n",
      "11:29:13 - cmdstanpy - INFO - Chain [1] done processing\n",
      "11:29:14 - cmdstanpy - INFO - Chain [1] start processing\n"
     ]
    },
    {
     "name": "stdout",
     "output_type": "stream",
     "text": [
      "Train-Test ratio:5.000914243920278 achieved MAE 66.5601819986914\n",
      "----------------- RESULT HERE 83.54725757516816\n",
      "Testing Prophet\n"
     ]
    },
    {
     "name": "stderr",
     "output_type": "stream",
     "text": [
      "11:29:15 - cmdstanpy - INFO - Chain [1] done processing\n",
      "11:29:16 - cmdstanpy - INFO - Chain [1] start processing\n"
     ]
    },
    {
     "name": "stdout",
     "output_type": "stream",
     "text": [
      "Train-Test ratio:1.000230149597238 achieved MAE 187.0254253591293\n"
     ]
    },
    {
     "name": "stderr",
     "output_type": "stream",
     "text": [
      "11:29:16 - cmdstanpy - INFO - Chain [1] done processing\n"
     ]
    },
    {
     "name": "stdout",
     "output_type": "stream",
     "text": [
      "Train-Test ratio:2.0002301495972383 achieved MAE 25.66748639366984\n"
     ]
    },
    {
     "name": "stderr",
     "output_type": "stream",
     "text": [
      "11:29:17 - cmdstanpy - INFO - Chain [1] start processing\n",
      "11:29:18 - cmdstanpy - INFO - Chain [1] done processing\n"
     ]
    },
    {
     "name": "stdout",
     "output_type": "stream",
     "text": [
      "Train-Test ratio:3.0002301495972383 achieved MAE 66.69101794748853\n"
     ]
    },
    {
     "name": "stderr",
     "output_type": "stream",
     "text": [
      "11:29:19 - cmdstanpy - INFO - Chain [1] start processing\n",
      "11:29:20 - cmdstanpy - INFO - Chain [1] done processing\n"
     ]
    },
    {
     "name": "stdout",
     "output_type": "stream",
     "text": [
      "Train-Test ratio:4.000230149597238 achieved MAE 40.265174080928304\n"
     ]
    },
    {
     "name": "stderr",
     "output_type": "stream",
     "text": [
      "11:29:22 - cmdstanpy - INFO - Chain [1] start processing\n",
      "11:29:23 - cmdstanpy - INFO - Chain [1] done processing\n"
     ]
    },
    {
     "name": "stdout",
     "output_type": "stream",
     "text": [
      "Train-Test ratio:5.000230149597238 achieved MAE 40.7065991885315\n",
      "----------------- RESULT HERE 72.07114059394948\n",
      "Done creating a linear regression model!\n"
     ]
    }
   ],
   "source": [
    "df = ml.data.get_training_flattened()\n",
    "for location in ['A', 'B', 'C']:\n",
    "    temp_df = df[df['location']==location]\n",
    "\n",
    "    lr = ProphetModel()\n",
    "    print(\"----------------- RESULT HERE\", np.mean(lr.test(temp_df)))\n",
    "    \n",
    "print(\"Done creating a linear regression model!\")"
   ]
  }
 ],
 "metadata": {
  "kernelspec": {
   "display_name": "Python 3",
   "language": "python",
   "name": "python3"
  },
  "language_info": {
   "codemirror_mode": {
    "name": "ipython",
    "version": 3
   },
   "file_extension": ".py",
   "mimetype": "text/x-python",
   "name": "python",
   "nbconvert_exporter": "python",
   "pygments_lexer": "ipython3",
   "version": "3.10.7"
  },
  "orig_nbformat": 4
 },
 "nbformat": 4,
 "nbformat_minor": 2
}
