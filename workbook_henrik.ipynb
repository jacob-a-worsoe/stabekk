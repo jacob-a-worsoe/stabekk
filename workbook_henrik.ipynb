{
 "cells": [
  {
   "cell_type": "code",
   "execution_count": 1,
   "metadata": {},
   "outputs": [],
   "source": [
    "import ml_combat as ml\n",
    "from ml_combat import data, module_dir"
   ]
  },
  {
   "cell_type": "code",
   "execution_count": 2,
   "metadata": {},
   "outputs": [
    {
     "name": "stderr",
     "output_type": "stream",
     "text": [
      "c:\\Users\\henri\\Dropbox\\NTNU\\Fall 2023\\TDT4173 - Machine Learning\\Exercises\\Group Exercise\\stabekk\\ml_combat\\data.py:105: FutureWarning: DataFrame.groupby with axis=1 is deprecated. Do `frame.T.groupby(...)` without axis instead.\n",
      "  return get_training().groupby(level = [0,2], axis = 1).mean()[['y', 'estimated', 'observed']]\n",
      "c:\\Users\\henri\\Dropbox\\NTNU\\Fall 2023\\TDT4173 - Machine Learning\\Exercises\\Group Exercise\\stabekk\\ml_combat\\data.py:163: FutureWarning: DataFrame.groupby with axis=1 is deprecated. Do `frame.T.groupby(...)` without axis instead.\n",
      "  df = df.groupby(level = [0,2], axis = 1).mean()[['estimated']]\n"
     ]
    }
   ],
   "source": [
    "df_train = data.get_training_flattened()\n",
    "df_test = data.get_testing_flattened()"
   ]
  },
  {
   "cell_type": "code",
   "execution_count": 3,
   "metadata": {},
   "outputs": [],
   "source": [
    "import tensorflow as tf\n",
    "from keras.utils import timeseries_dataset_from_array\n",
    "from keras.preprocessing.sequence import TimeseriesGenerator\n",
    "\n",
    "from sklearn.preprocessing import MinMaxScaler\n",
    "\n",
    "import pandas as pd\n",
    "import numpy as np\n",
    "import math\n",
    "import matplotlib.pyplot as plt"
   ]
  },
  {
   "cell_type": "code",
   "execution_count": 4,
   "metadata": {},
   "outputs": [
    {
     "data": {
      "text/html": [
       "<div>\n",
       "<style scoped>\n",
       "    .dataframe tbody tr th:only-of-type {\n",
       "        vertical-align: middle;\n",
       "    }\n",
       "\n",
       "    .dataframe tbody tr th {\n",
       "        vertical-align: top;\n",
       "    }\n",
       "\n",
       "    .dataframe thead th {\n",
       "        text-align: right;\n",
       "    }\n",
       "</style>\n",
       "<table border=\"1\" class=\"dataframe\">\n",
       "  <thead>\n",
       "    <tr style=\"text-align: right;\">\n",
       "      <th></th>\n",
       "      <th>location</th>\n",
       "      <th>ds</th>\n",
       "      <th>y</th>\n",
       "      <th>weather_data_type</th>\n",
       "      <th>absolute_humidity_2m:gm3</th>\n",
       "      <th>air_density_2m:kgm3</th>\n",
       "      <th>ceiling_height_agl:m</th>\n",
       "      <th>clear_sky_energy_1h:J</th>\n",
       "      <th>clear_sky_rad:W</th>\n",
       "      <th>cloud_base_agl:m</th>\n",
       "      <th>...</th>\n",
       "      <th>sun_azimuth:d</th>\n",
       "      <th>sun_elevation:d</th>\n",
       "      <th>super_cooled_liquid_water:kgm2</th>\n",
       "      <th>t_1000hPa:K</th>\n",
       "      <th>total_cloud_cover:p</th>\n",
       "      <th>visibility:m</th>\n",
       "      <th>wind_speed_10m:ms</th>\n",
       "      <th>wind_speed_u_10m:ms</th>\n",
       "      <th>wind_speed_v_10m:ms</th>\n",
       "      <th>wind_speed_w_1000hPa:ms</th>\n",
       "    </tr>\n",
       "  </thead>\n",
       "  <tbody>\n",
       "    <tr>\n",
       "      <th>0</th>\n",
       "      <td>A</td>\n",
       "      <td>2019-06-02 22:00:00</td>\n",
       "      <td>0.00</td>\n",
       "      <td>observed</td>\n",
       "      <td>7.700</td>\n",
       "      <td>1.22825</td>\n",
       "      <td>1728.950012</td>\n",
       "      <td>0.000000</td>\n",
       "      <td>0.00</td>\n",
       "      <td>1728.950012</td>\n",
       "      <td>...</td>\n",
       "      <td>348.036758</td>\n",
       "      <td>-3.77425</td>\n",
       "      <td>0.0</td>\n",
       "      <td>286.224998</td>\n",
       "      <td>100.000</td>\n",
       "      <td>40386.475586</td>\n",
       "      <td>3.600</td>\n",
       "      <td>-3.575</td>\n",
       "      <td>-0.500</td>\n",
       "      <td>0.0</td>\n",
       "    </tr>\n",
       "    <tr>\n",
       "      <th>1</th>\n",
       "      <td>A</td>\n",
       "      <td>2019-06-02 23:00:00</td>\n",
       "      <td>0.00</td>\n",
       "      <td>observed</td>\n",
       "      <td>7.700</td>\n",
       "      <td>1.22350</td>\n",
       "      <td>1689.824982</td>\n",
       "      <td>0.000000</td>\n",
       "      <td>0.00</td>\n",
       "      <td>1689.824982</td>\n",
       "      <td>...</td>\n",
       "      <td>91.980751</td>\n",
       "      <td>-4.35725</td>\n",
       "      <td>0.0</td>\n",
       "      <td>286.899994</td>\n",
       "      <td>100.000</td>\n",
       "      <td>33770.649414</td>\n",
       "      <td>3.350</td>\n",
       "      <td>-3.350</td>\n",
       "      <td>0.275</td>\n",
       "      <td>0.0</td>\n",
       "    </tr>\n",
       "    <tr>\n",
       "      <th>2</th>\n",
       "      <td>A</td>\n",
       "      <td>2019-06-03 00:00:00</td>\n",
       "      <td>0.00</td>\n",
       "      <td>observed</td>\n",
       "      <td>7.875</td>\n",
       "      <td>1.21975</td>\n",
       "      <td>1563.225006</td>\n",
       "      <td>0.000000</td>\n",
       "      <td>0.00</td>\n",
       "      <td>1563.225006</td>\n",
       "      <td>...</td>\n",
       "      <td>14.934750</td>\n",
       "      <td>-3.30950</td>\n",
       "      <td>0.0</td>\n",
       "      <td>286.949997</td>\n",
       "      <td>100.000</td>\n",
       "      <td>13595.500000</td>\n",
       "      <td>3.050</td>\n",
       "      <td>-2.950</td>\n",
       "      <td>0.750</td>\n",
       "      <td>0.0</td>\n",
       "    </tr>\n",
       "    <tr>\n",
       "      <th>3</th>\n",
       "      <td>A</td>\n",
       "      <td>2019-06-03 01:00:00</td>\n",
       "      <td>0.00</td>\n",
       "      <td>observed</td>\n",
       "      <td>8.425</td>\n",
       "      <td>1.21800</td>\n",
       "      <td>1283.425018</td>\n",
       "      <td>208.649994</td>\n",
       "      <td>0.75</td>\n",
       "      <td>1283.425018</td>\n",
       "      <td>...</td>\n",
       "      <td>28.630250</td>\n",
       "      <td>-0.82250</td>\n",
       "      <td>0.0</td>\n",
       "      <td>286.750000</td>\n",
       "      <td>100.000</td>\n",
       "      <td>2321.850037</td>\n",
       "      <td>2.725</td>\n",
       "      <td>-2.600</td>\n",
       "      <td>0.875</td>\n",
       "      <td>0.0</td>\n",
       "    </tr>\n",
       "    <tr>\n",
       "      <th>4</th>\n",
       "      <td>A</td>\n",
       "      <td>2019-06-03 02:00:00</td>\n",
       "      <td>19.36</td>\n",
       "      <td>observed</td>\n",
       "      <td>8.950</td>\n",
       "      <td>1.21800</td>\n",
       "      <td>1003.500000</td>\n",
       "      <td>32468.150269</td>\n",
       "      <td>23.10</td>\n",
       "      <td>1003.500000</td>\n",
       "      <td>...</td>\n",
       "      <td>41.997500</td>\n",
       "      <td>3.05125</td>\n",
       "      <td>0.0</td>\n",
       "      <td>286.449997</td>\n",
       "      <td>99.225</td>\n",
       "      <td>11634.799683</td>\n",
       "      <td>2.550</td>\n",
       "      <td>-2.350</td>\n",
       "      <td>0.925</td>\n",
       "      <td>0.0</td>\n",
       "    </tr>\n",
       "  </tbody>\n",
       "</table>\n",
       "<p>5 rows × 49 columns</p>\n",
       "</div>"
      ],
      "text/plain": [
       "  location                  ds      y weather_data_type  \\\n",
       "0        A 2019-06-02 22:00:00   0.00          observed   \n",
       "1        A 2019-06-02 23:00:00   0.00          observed   \n",
       "2        A 2019-06-03 00:00:00   0.00          observed   \n",
       "3        A 2019-06-03 01:00:00   0.00          observed   \n",
       "4        A 2019-06-03 02:00:00  19.36          observed   \n",
       "\n",
       "   absolute_humidity_2m:gm3  air_density_2m:kgm3  ceiling_height_agl:m  \\\n",
       "0                     7.700              1.22825           1728.950012   \n",
       "1                     7.700              1.22350           1689.824982   \n",
       "2                     7.875              1.21975           1563.225006   \n",
       "3                     8.425              1.21800           1283.425018   \n",
       "4                     8.950              1.21800           1003.500000   \n",
       "\n",
       "   clear_sky_energy_1h:J  clear_sky_rad:W  cloud_base_agl:m  ...  \\\n",
       "0               0.000000             0.00       1728.950012  ...   \n",
       "1               0.000000             0.00       1689.824982  ...   \n",
       "2               0.000000             0.00       1563.225006  ...   \n",
       "3             208.649994             0.75       1283.425018  ...   \n",
       "4           32468.150269            23.10       1003.500000  ...   \n",
       "\n",
       "   sun_azimuth:d  sun_elevation:d  super_cooled_liquid_water:kgm2  \\\n",
       "0     348.036758         -3.77425                             0.0   \n",
       "1      91.980751         -4.35725                             0.0   \n",
       "2      14.934750         -3.30950                             0.0   \n",
       "3      28.630250         -0.82250                             0.0   \n",
       "4      41.997500          3.05125                             0.0   \n",
       "\n",
       "   t_1000hPa:K  total_cloud_cover:p  visibility:m  wind_speed_10m:ms  \\\n",
       "0   286.224998              100.000  40386.475586              3.600   \n",
       "1   286.899994              100.000  33770.649414              3.350   \n",
       "2   286.949997              100.000  13595.500000              3.050   \n",
       "3   286.750000              100.000   2321.850037              2.725   \n",
       "4   286.449997               99.225  11634.799683              2.550   \n",
       "\n",
       "   wind_speed_u_10m:ms  wind_speed_v_10m:ms  wind_speed_w_1000hPa:ms  \n",
       "0               -3.575               -0.500                      0.0  \n",
       "1               -3.350                0.275                      0.0  \n",
       "2               -2.950                0.750                      0.0  \n",
       "3               -2.600                0.875                      0.0  \n",
       "4               -2.350                0.925                      0.0  \n",
       "\n",
       "[5 rows x 49 columns]"
      ]
     },
     "execution_count": 4,
     "metadata": {},
     "output_type": "execute_result"
    }
   ],
   "source": [
    "df_train.head()"
   ]
  },
  {
   "cell_type": "code",
   "execution_count": 5,
   "metadata": {},
   "outputs": [],
   "source": [
    "keep_columns = ['total_rad_1h:J',\n",
    "                'fresh_snow_12h:cm',\n",
    "                'snow_water:kgm2',\n",
    "                'is_day:idx',\n",
    "                'is_in_shadow:idx',\n",
    "                'rain_water:kgm2',\n",
    "                'sun_azimuth:d',\n",
    "                'sun_elevation:d',\n",
    "                't_1000hPa:K',\n",
    "                'dew_or_rime:idx',\n",
    "                'air_density_2m:kgm3',\n",
    "                'absolute_humidity_2m:gm3',\n",
    "                'y'\n",
    "]"
   ]
  },
  {
   "cell_type": "code",
   "execution_count": 20,
   "metadata": {},
   "outputs": [],
   "source": [
    "# Need this to unscale values again\n",
    "scaler = None\n",
    "\n",
    "def preprocess(df, has_target_col=False):\n",
    "  window_len = 20\n",
    "  batch_size = 32\n",
    "\n",
    "  temp_df = df.copy()\n",
    "\n",
    "  temp_df['total_rad_1h:J'] = df['diffuse_rad_1h:J'] + df['direct_rad_1h:J']\n",
    "\n",
    "  # Only keep the columns in keep_columns that df actually has\n",
    "  keep_columns_exist = [col for col in keep_columns if col in temp_df.columns]\n",
    "  temp_df = temp_df[keep_columns_exist]\n",
    "\n",
    "  \n",
    "  # Clean out NaNs/NONEs -- May need to remove for more than just total_rad_1h:J\n",
    "  temp_df = temp_df.dropna(axis=0, how=\"all\", subset=\"total_rad_1h:J\")\n",
    "\n",
    "  if(has_target_col):\n",
    "    temp_df = temp_df.dropna(axis=0, how=\"all\", subset=\"y\")\n",
    "\n",
    "  # Min-max scale all columns so all values in [0, 1]\n",
    "  scaler = MinMaxScaler()\n",
    "  temp_np = scaler.fit_transform(temp_df)\n",
    "\n",
    "  # Convert to time-series of given window-lengths \n",
    "  # (Sequence_length is how long each time-window is, sequence_stride is how long the window shifts forward in time for each sequence)\n",
    "  if(has_target_col):\n",
    "    num_features = temp_np.shape[1] - 1\n",
    "\n",
    "    print(\"NUMBER OF FEATURES\", num_features)\n",
    "\n",
    "    features = temp_np[:, : num_features]\n",
    "    targets = temp_np[:, num_features]\n",
    "\n",
    "    temp_df = TimeseriesGenerator(data=features, targets=targets, length=window_len, shuffle=False, batch_size=batch_size)\n",
    " \n",
    "  else:\n",
    "    num_features = temp_np.shape[1]\n",
    "\n",
    "    print(\"NUMBER OF FEATURES\", num_features)\n",
    "\n",
    "    features = temp_np[:, : num_features]\n",
    "    dummy_targets = np.zeros(features.shape)\n",
    "\n",
    "    temp_df = TimeseriesGenerator(data=features, targets=dummy_targets, length=window_len, shuffle=False, batch_size=batch_size)\n",
    "  # Actually returns tensor BatchDataset\n",
    "  return temp_df"
   ]
  },
  {
   "cell_type": "code",
   "execution_count": null,
   "metadata": {},
   "outputs": [],
   "source": [
    "##################### TRAIN AND OUTPUT FOR DELIVERY #######################\n"
   ]
  },
  {
   "cell_type": "code",
   "execution_count": 8,
   "metadata": {},
   "outputs": [
    {
     "name": "stdout",
     "output_type": "stream",
     "text": [
      "NUMBER OF FEATURES 12\n",
      "NUMBER OF FEATURES 12\n",
      "2090\n"
     ]
    },
    {
     "name": "stderr",
     "output_type": "stream",
     "text": [
      "c:\\Python39\\lib\\site-packages\\sklearn\\utils\\validation.py:623: FutureWarning: is_sparse is deprecated and will be removed in a future version. Check `isinstance(dtype, pd.SparseDtype)` instead.\n",
      "  if not hasattr(array, \"sparse\") and array.dtypes.apply(is_sparse).any():\n",
      "c:\\Python39\\lib\\site-packages\\sklearn\\utils\\validation.py:623: FutureWarning: is_sparse is deprecated and will be removed in a future version. Check `isinstance(dtype, pd.SparseDtype)` instead.\n",
      "  if not hasattr(array, \"sparse\") and array.dtypes.apply(is_sparse).any():\n",
      "c:\\Python39\\lib\\site-packages\\sklearn\\utils\\validation.py:623: FutureWarning: is_sparse is deprecated and will be removed in a future version. Check `isinstance(dtype, pd.SparseDtype)` instead.\n",
      "  if not hasattr(array, \"sparse\") and array.dtypes.apply(is_sparse).any():\n",
      "c:\\Python39\\lib\\site-packages\\sklearn\\utils\\validation.py:623: FutureWarning: is_sparse is deprecated and will be removed in a future version. Check `isinstance(dtype, pd.SparseDtype)` instead.\n",
      "  if not hasattr(array, \"sparse\") and array.dtypes.apply(is_sparse).any():\n"
     ]
    },
    {
     "data": {
      "text/plain": [
       "(array([[[0.1979189 , 0.        , 0.11946902, ..., 0.5       ,\n",
       "          0.26933328, 0.53153155],\n",
       "         [0.16027924, 0.        , 0.11504425, ..., 0.5       ,\n",
       "          0.27377783, 0.54054053],\n",
       "         [0.10702403, 0.        , 0.1238938 , ..., 0.5       ,\n",
       "          0.27733355, 0.54054053],\n",
       "         ...,\n",
       "         [0.30871503, 0.        , 0.        , ..., 0.5       ,\n",
       "          0.30222222, 0.42192193],\n",
       "         [0.40314963, 0.        , 0.        , ..., 0.5       ,\n",
       "          0.29422238, 0.3963964 ],\n",
       "         [0.52589553, 0.        , 0.        , ..., 0.5       ,\n",
       "          0.29155559, 0.38138138]],\n",
       " \n",
       "        [[0.16027924, 0.        , 0.11504425, ..., 0.5       ,\n",
       "          0.27377783, 0.54054053],\n",
       "         [0.10702403, 0.        , 0.1238938 , ..., 0.5       ,\n",
       "          0.27733355, 0.54054053],\n",
       "         [0.09781674, 0.        , 0.07522124, ..., 0.5       ,\n",
       "          0.28177778, 0.53753755],\n",
       "         ...,\n",
       "         [0.40314963, 0.        , 0.        , ..., 0.5       ,\n",
       "          0.29422238, 0.3963964 ],\n",
       "         [0.52589553, 0.        , 0.        , ..., 0.5       ,\n",
       "          0.29155559, 0.38138138],\n",
       "         [0.61146514, 0.        , 0.        , ..., 0.5       ,\n",
       "          0.28622222, 0.37087088]],\n",
       " \n",
       "        [[0.10702403, 0.        , 0.1238938 , ..., 0.5       ,\n",
       "          0.27733355, 0.54054053],\n",
       "         [0.09781674, 0.        , 0.07522124, ..., 0.5       ,\n",
       "          0.28177778, 0.53753755],\n",
       "         [0.12714564, 0.        , 0.02212389, ..., 0.5       ,\n",
       "          0.28266671, 0.51951952],\n",
       "         ...,\n",
       "         [0.52589553, 0.        , 0.        , ..., 0.5       ,\n",
       "          0.29155559, 0.38138138],\n",
       "         [0.61146514, 0.        , 0.        , ..., 0.5       ,\n",
       "          0.28622222, 0.37087088],\n",
       "         [0.67527977, 0.        , 0.        , ..., 0.5       ,\n",
       "          0.27644451, 0.36636638]],\n",
       " \n",
       "        ...,\n",
       " \n",
       "        [[0.13117533, 0.        , 0.        , ..., 0.5       ,\n",
       "          0.32177773, 0.43393394],\n",
       "         [0.05907667, 0.        , 0.        , ..., 0.5       ,\n",
       "          0.33511116, 0.43243244],\n",
       "         [0.01542233, 0.        , 0.        , ..., 0.5       ,\n",
       "          0.35200009, 0.42792794],\n",
       "         ...,\n",
       "         [0.30422213, 0.        , 0.02212389, ..., 0.5       ,\n",
       "          0.33422212, 0.42792793],\n",
       "         [0.26527075, 0.        , 0.        , ..., 0.5       ,\n",
       "          0.33688891, 0.45645646],\n",
       "         [0.22797959, 0.        , 0.        , ..., 0.5       ,\n",
       "          0.34311121, 0.44744746]],\n",
       " \n",
       "        [[0.05907667, 0.        , 0.        , ..., 0.5       ,\n",
       "          0.33511116, 0.43243244],\n",
       "         [0.01542233, 0.        , 0.        , ..., 0.5       ,\n",
       "          0.35200009, 0.42792794],\n",
       "         [0.00095784, 0.        , 0.        , ..., 0.5       ,\n",
       "          0.36355555, 0.42642644],\n",
       "         ...,\n",
       "         [0.26527075, 0.        , 0.        , ..., 0.5       ,\n",
       "          0.33688891, 0.45645646],\n",
       "         [0.22797959, 0.        , 0.        , ..., 0.5       ,\n",
       "          0.34311121, 0.44744746],\n",
       "         [0.19463701, 0.        , 0.        , ..., 0.5       ,\n",
       "          0.34933341, 0.44144146]],\n",
       " \n",
       "        [[0.01542233, 0.        , 0.        , ..., 0.5       ,\n",
       "          0.35200009, 0.42792794],\n",
       "         [0.00095784, 0.        , 0.        , ..., 0.5       ,\n",
       "          0.36355555, 0.42642644],\n",
       "         [0.        , 0.        , 0.        , ..., 0.5       ,\n",
       "          0.36088897, 0.42642644],\n",
       "         ...,\n",
       "         [0.22797959, 0.        , 0.        , ..., 0.5       ,\n",
       "          0.34311121, 0.44744746],\n",
       "         [0.19463701, 0.        , 0.        , ..., 0.5       ,\n",
       "          0.34933341, 0.44144146],\n",
       "         [0.18494634, 0.        , 0.        , ..., 0.5       ,\n",
       "          0.35199988, 0.43993995]]]),\n",
       " array([3.30915928e-01, 4.08810099e-01, 3.90506888e-01, 4.92153026e-01,\n",
       "        3.91658033e-01, 5.06657458e-01, 3.09159280e-01, 1.60853382e-01,\n",
       "        6.02049039e-02, 2.27926787e-02, 8.71033345e-03, 1.91857565e-04,\n",
       "        0.00000000e+00, 0.00000000e+00, 0.00000000e+00, 1.76508960e-03,\n",
       "        2.59007713e-02, 6.21234795e-02, 1.19066805e-01, 1.85180922e-01,\n",
       "        1.81573999e-01, 2.60389087e-01, 4.41963087e-01, 3.83446529e-01,\n",
       "        3.20171904e-01, 1.84413491e-01, 2.64725068e-01, 2.48532290e-01,\n",
       "        1.75933387e-01, 1.57284832e-01, 1.76969418e-01, 1.10471586e-01]))"
      ]
     },
     "execution_count": 8,
     "metadata": {},
     "output_type": "execute_result"
    }
   ],
   "source": [
    "# Test-train split data\n",
    "train_end = round(len(df_train) * 0.7)\n",
    "\n",
    "train_train_df = df_train.iloc[:train_end]\n",
    "train_test_df = df_train.iloc[train_end:]\n",
    "\n",
    "train_generator = preprocess(train_train_df, has_target_col = True)\n",
    "test_generator = preprocess(train_test_df, has_target_col=True)\n",
    "\n",
    "print(len(train_generator))"
   ]
  },
  {
   "cell_type": "code",
   "execution_count": 10,
   "metadata": {},
   "outputs": [],
   "source": [
    "window_len = 20\n",
    "num_features = 12\n",
    "epochs = 5\n",
    "\n",
    "model = tf.keras.Sequential()\n",
    "\n",
    "model.add(tf.keras.layers.LSTM(64, input_shape=(window_len, num_features), return_sequences=True))\n",
    "model.add(tf.keras.layers.LeakyReLU(alpha=0.5))\n",
    "\n",
    "model.add(tf.keras.layers.LSTM(64, return_sequences=True))\n",
    "model.add(tf.keras.layers.LeakyReLU(alpha=0.5))\n",
    "\n",
    "model.add(tf.keras.layers.Dropout(0.3))\n",
    "model.add(tf.keras.layers.LSTM(32, return_sequences=False))\n",
    "\n",
    "model.add(tf.keras.layers.Dropout(0.3))\n",
    "model.add(tf.keras.layers.Dense(1))\n",
    "\n",
    "# Add pruning measures\n",
    "early_stopping = tf.keras.callbacks.EarlyStopping(monitor='val_loss', patience=2, mode='min')\n",
    "model.compile(loss=tf.losses.MeanSquaredError(), optimizer=tf.optimizers.Adam(), metrics=tf.metrics.MeanAbsoluteError())"
   ]
  },
  {
   "cell_type": "code",
   "execution_count": 11,
   "metadata": {},
   "outputs": [
    {
     "name": "stdout",
     "output_type": "stream",
     "text": [
      "Epoch 1/5\n"
     ]
    },
    {
     "name": "stderr",
     "output_type": "stream",
     "text": [
      "C:\\Users\\henri\\AppData\\Local\\Temp/ipykernel_18632/3138280237.py:2: UserWarning: `Model.fit_generator` is deprecated and will be removed in a future version. Please use `Model.fit`, which supports generators.\n",
      "  history = model.fit_generator(train_generator, epochs=epochs, validation_data=test_generator, shuffle=False, callbacks=[early_stopping])\n"
     ]
    },
    {
     "name": "stdout",
     "output_type": "stream",
     "text": [
      "2090/2090 [==============================] - 55s 24ms/step - loss: 0.0096 - mean_absolute_error: 0.0498 - val_loss: 0.0254 - val_mean_absolute_error: 0.0722\n",
      "Epoch 2/5\n",
      "2090/2090 [==============================] - 45s 21ms/step - loss: 0.0071 - mean_absolute_error: 0.0427 - val_loss: 0.0243 - val_mean_absolute_error: 0.0728\n",
      "Epoch 3/5\n",
      "2090/2090 [==============================] - 45s 21ms/step - loss: 0.0059 - mean_absolute_error: 0.0385 - val_loss: 0.0228 - val_mean_absolute_error: 0.0705\n",
      "Epoch 4/5\n",
      "2090/2090 [==============================] - 46s 22ms/step - loss: 0.0055 - mean_absolute_error: 0.0369 - val_loss: 0.0226 - val_mean_absolute_error: 0.0705\n",
      "Epoch 5/5\n",
      "2090/2090 [==============================] - 45s 21ms/step - loss: 0.0053 - mean_absolute_error: 0.0361 - val_loss: 0.0224 - val_mean_absolute_error: 0.0698\n",
      "[0.02238134853541851, 0.06978625059127808]\n"
     ]
    }
   ],
   "source": [
    "# Train the model\n",
    "history = model.fit_generator(train_generator, epochs=epochs, validation_data=test_generator, shuffle=False, callbacks=[early_stopping])\n",
    "\n",
    "print(model.evaluate(test_generator, verbose=0))"
   ]
  },
  {
   "cell_type": "code",
   "execution_count": 12,
   "metadata": {},
   "outputs": [],
   "source": []
  },
  {
   "cell_type": "code",
   "execution_count": 13,
   "metadata": {},
   "outputs": [
    {
     "data": {
      "text/plain": [
       "[<matplotlib.lines.Line2D at 0x1f5978fd1c0>]"
      ]
     },
     "execution_count": 13,
     "metadata": {},
     "output_type": "execute_result"
    },
    {
     "data": {
      "image/png": "[encoded data removed]",
      "text/plain": [
       "<Figure size 432x288 with 1 Axes>"
      ]
     },
     "metadata": {
      "needs_background": "light"
     },
     "output_type": "display_data"
    }
   ],
   "source": [
    "plt.plot(range(len(history.history['loss'])), history.history['loss'])"
   ]
  },
  {
   "cell_type": "code",
   "execution_count": 21,
   "metadata": {},
   "outputs": [
    {
     "name": "stderr",
     "output_type": "stream",
     "text": [
      "c:\\Python39\\lib\\site-packages\\sklearn\\utils\\validation.py:623: FutureWarning: is_sparse is deprecated and will be removed in a future version. Check `isinstance(dtype, pd.SparseDtype)` instead.\n",
      "  if not hasattr(array, \"sparse\") and array.dtypes.apply(is_sparse).any():\n",
      "c:\\Python39\\lib\\site-packages\\sklearn\\utils\\validation.py:623: FutureWarning: is_sparse is deprecated and will be removed in a future version. Check `isinstance(dtype, pd.SparseDtype)` instead.\n",
      "  if not hasattr(array, \"sparse\") and array.dtypes.apply(is_sparse).any():\n"
     ]
    },
    {
     "name": "stdout",
     "output_type": "stream",
     "text": [
      "NUMBER OF FEATURES 12\n",
      "67/67 [==============================] - 1s 7ms/step\n"
     ]
    }
   ],
   "source": [
    "final_test_generator = preprocess(df_test)\n",
    "out = model.predict(final_test_generator)"
   ]
  },
  {
   "cell_type": "code",
   "execution_count": 25,
   "metadata": {},
   "outputs": [
    {
     "name": "stdout",
     "output_type": "stream",
     "text": [
      "[[ 0.00415007]\n",
      " [ 0.00823158]\n",
      " [ 0.00827513]\n",
      " ...\n",
      " [-0.00240877]\n",
      " [ 0.00286565]\n",
      " [ 0.00487237]]\n",
      "2140\n",
      "2160\n",
      "#################################################################\n",
      "#################################################################\n",
      "########################   PROBLEM          #####################\n",
      "################# Likely due to removing Nan-vals  ##############\n",
      "#################################################################\n",
      "#################################################################\n"
     ]
    }
   ],
   "source": [
    "print(out)\n",
    "print(len(out))\n",
    "print(len(df_test))\n",
    "if(len(out) != len(df_test)):\n",
    "  print(\"#################################################################\")\n",
    "  print(\"#################################################################\")\n",
    "  print(\"########################   PROBLEM          #####################\")\n",
    "  print(\"################# Likely due to removing Nan-vals  ##############\")\n",
    "  print(\"#################################################################\")\n",
    "  print(\"#################################################################\")"
   ]
  }
 ],
 "metadata": {
  "kernelspec": {
   "display_name": "Python 3",
   "language": "python",
   "name": "python3"
  },
  "language_info": {
   "codemirror_mode": {
    "name": "ipython",
    "version": 3
   },
   "file_extension": ".py",
   "mimetype": "text/x-python",
   "name": "python",
   "nbconvert_exporter": "python",
   "pygments_lexer": "ipython3",
   "version": "3.9.1"
  }
 },
 "nbformat": 4,
 "nbformat_minor": 2
}
