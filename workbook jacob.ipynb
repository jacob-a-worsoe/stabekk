{
 "cells": [
  {
   "cell_type": "code",
   "execution_count": 1,
   "metadata": {},
   "outputs": [],
   "source": [
    "import ml_combat as ml\n",
    "from ml_combat import data\n",
    "from ml_combat.MetaModel import MetaModel"
   ]
  },
  {
   "cell_type": "code",
   "execution_count": 2,
   "metadata": {},
   "outputs": [],
   "source": [
    "from prophet import Prophet\n",
    "import pandas as pd"
   ]
  },
  {
   "cell_type": "code",
   "execution_count": 3,
   "metadata": {},
   "outputs": [],
   "source": [
    "class ProphetModel(MetaModel):\n",
    "    \n",
    "    def __init__(self):\n",
    "        super().__init__(\"Prophet\")\n",
    "        \n",
    "    def preprocess(self, df):\n",
    "        \"\"\"\n",
    "        \"\"\"\n",
    "        temp_df = df.copy()\n",
    "\n",
    "        temp_df['total_rad_1h:J'] = df['diffuse_rad_1h:J'] + df['direct_rad_1h:J']\n",
    "\n",
    "        temp_df = temp_df.dropna(axis=0, how=\"all\", subset=\"total_rad_1h:J\")\n",
    "\n",
    "        if('y' in temp_df.columns.tolist()):\n",
    "            temp_df = temp_df.dropna(axis=0, how=\"all\", subset=\"y\")\n",
    "\n",
    "        temp_df.fillna(0, inplace=True)\n",
    "        \n",
    "        return temp_df\n",
    "\n",
    "    def train(self, df):\n",
    "        \"\"\"\n",
    "        \"\"\"\n",
    "        df = self.preprocess(df)\n",
    "\n",
    "        self.prophet_model = Prophet()\n",
    "        # for feat in [i for i in df.columns.to_list() if i not in ['location', 'ds', 'y', 'weather_data_type']]:\n",
    "        self.prophet_model.add_regressor('total_rad_1h:J')\n",
    "        self.prophet_model.fit(df)\n",
    "\n",
    "    def predict(self, df):\n",
    "        \"\"\"\n",
    "        \"\"\"\n",
    "        df = self.preprocess(df)\n",
    "\n",
    "        forecast = self.prophet_model.predict(df)\n",
    "        # fig = prophet_model.plot_components(forecast)\n",
    "        temp_ret = forecast[['ds', 'yhat']].rename(columns={'yhat':'y_pred'})\n",
    "\n",
    "        return temp_ret\n",
    "    \n"
   ]
  },
  {
   "cell_type": "code",
   "execution_count": 4,
   "metadata": {},
   "outputs": [],
   "source": [
    "# df[df['snow_density:kgm3'].notna()]\n",
    "# df[df.isna().any(axis=1)]\n",
    "\n",
    "# df[df['visibility:m'].isna()]"
   ]
  },
  {
   "cell_type": "code",
   "execution_count": null,
   "metadata": {},
   "outputs": [],
   "source": []
  },
  {
   "cell_type": "code",
   "execution_count": 5,
   "metadata": {},
   "outputs": [
    {
     "name": "stderr",
     "output_type": "stream",
     "text": [
      "/var/folders/rn/zrxftcb56xg254wsfbhrtbt80000gn/T/ipykernel_32834/3561787093.py:20: UserWarning: Boolean Series key will be reindexed to match DataFrame index.\n",
      "  temp_df = temp_df[df.weather_data_type == 'observed']\n",
      "17:17:43 - cmdstanpy - INFO - Chain [1] start processing\n"
     ]
    },
    {
     "name": "stdout",
     "output_type": "stream",
     "text": [
      "Testing Prophet\n"
     ]
    },
    {
     "name": "stderr",
     "output_type": "stream",
     "text": [
      "17:17:43 - cmdstanpy - INFO - Chain [1] done processing\n"
     ]
    },
    {
     "name": "stdout",
     "output_type": "stream",
     "text": [
      "Train-Test ratio:1.0006067961165048 achieved MAE 530.1876666525234\n"
     ]
    },
    {
     "name": "stderr",
     "output_type": "stream",
     "text": [
      "17:17:44 - cmdstanpy - INFO - Chain [1] start processing\n",
      "17:17:44 - cmdstanpy - INFO - Chain [1] done processing\n"
     ]
    },
    {
     "name": "stdout",
     "output_type": "stream",
     "text": [
      "Train-Test ratio:2.000606796116505 achieved MAE 259.9216498385317\n"
     ]
    },
    {
     "name": "stderr",
     "output_type": "stream",
     "text": [
      "17:17:46 - cmdstanpy - INFO - Chain [1] start processing\n",
      "17:17:47 - cmdstanpy - INFO - Chain [1] done processing\n"
     ]
    },
    {
     "name": "stdout",
     "output_type": "stream",
     "text": [
      "Train-Test ratio:3.000606796116505 achieved MAE 417.94016890818455\n"
     ]
    },
    {
     "name": "stderr",
     "output_type": "stream",
     "text": [
      "17:17:49 - cmdstanpy - INFO - Chain [1] start processing\n",
      "17:17:50 - cmdstanpy - INFO - Chain [1] done processing\n"
     ]
    },
    {
     "name": "stdout",
     "output_type": "stream",
     "text": [
      "Train-Test ratio:4.000606796116505 achieved MAE 240.73292436950007\n"
     ]
    },
    {
     "name": "stderr",
     "output_type": "stream",
     "text": [
      "17:17:52 - cmdstanpy - INFO - Chain [1] start processing\n",
      "17:17:55 - cmdstanpy - INFO - Chain [1] done processing\n",
      "/var/folders/rn/zrxftcb56xg254wsfbhrtbt80000gn/T/ipykernel_32834/3561787093.py:20: UserWarning: Boolean Series key will be reindexed to match DataFrame index.\n",
      "  temp_df = temp_df[df.weather_data_type == 'observed']\n",
      "17:17:56 - cmdstanpy - INFO - Chain [1] start processing\n"
     ]
    },
    {
     "name": "stdout",
     "output_type": "stream",
     "text": [
      "Train-Test ratio:5.000606796116505 achieved MAE 381.2536422984788\n",
      "Testing Prophet\n"
     ]
    },
    {
     "name": "stderr",
     "output_type": "stream",
     "text": [
      "17:17:56 - cmdstanpy - INFO - Chain [1] done processing\n",
      "17:17:57 - cmdstanpy - INFO - Chain [1] start processing\n"
     ]
    },
    {
     "name": "stdout",
     "output_type": "stream",
     "text": [
      "Train-Test ratio:1.0008215239268843 achieved MAE 60.823373436351694\n"
     ]
    },
    {
     "name": "stderr",
     "output_type": "stream",
     "text": [
      "17:17:57 - cmdstanpy - INFO - Chain [1] done processing\n"
     ]
    },
    {
     "name": "stdout",
     "output_type": "stream",
     "text": [
      "Train-Test ratio:2.0008215239268843 achieved MAE 97.73108598926572\n"
     ]
    },
    {
     "name": "stderr",
     "output_type": "stream",
     "text": [
      "17:17:59 - cmdstanpy - INFO - Chain [1] start processing\n",
      "17:18:00 - cmdstanpy - INFO - Chain [1] done processing\n"
     ]
    },
    {
     "name": "stdout",
     "output_type": "stream",
     "text": [
      "Train-Test ratio:3.0008215239268843 achieved MAE 45.062494723754895\n"
     ]
    },
    {
     "name": "stderr",
     "output_type": "stream",
     "text": [
      "17:18:01 - cmdstanpy - INFO - Chain [1] start processing\n",
      "17:18:03 - cmdstanpy - INFO - Chain [1] done processing\n"
     ]
    },
    {
     "name": "stdout",
     "output_type": "stream",
     "text": [
      "Train-Test ratio:4.000821523926884 achieved MAE 96.3815669247695\n"
     ]
    },
    {
     "name": "stderr",
     "output_type": "stream",
     "text": [
      "17:18:04 - cmdstanpy - INFO - Chain [1] start processing\n",
      "17:18:08 - cmdstanpy - INFO - Chain [1] done processing\n",
      "/var/folders/rn/zrxftcb56xg254wsfbhrtbt80000gn/T/ipykernel_32834/3561787093.py:20: UserWarning: Boolean Series key will be reindexed to match DataFrame index.\n",
      "  temp_df = temp_df[df.weather_data_type == 'observed']\n",
      "17:18:09 - cmdstanpy - INFO - Chain [1] start processing\n"
     ]
    },
    {
     "name": "stdout",
     "output_type": "stream",
     "text": [
      "Train-Test ratio:5.000821523926884 achieved MAE 47.76870516733394\n",
      "Testing Prophet\n"
     ]
    },
    {
     "name": "stderr",
     "output_type": "stream",
     "text": [
      "17:18:09 - cmdstanpy - INFO - Chain [1] done processing\n",
      "17:18:10 - cmdstanpy - INFO - Chain [1] start processing\n"
     ]
    },
    {
     "name": "stdout",
     "output_type": "stream",
     "text": [
      "Train-Test ratio:1.0012966804979253 achieved MAE 65.37090261622258\n"
     ]
    },
    {
     "name": "stderr",
     "output_type": "stream",
     "text": [
      "17:18:10 - cmdstanpy - INFO - Chain [1] done processing\n"
     ]
    },
    {
     "name": "stdout",
     "output_type": "stream",
     "text": [
      "Train-Test ratio:2.0012966804979255 achieved MAE 63.82997170237396\n"
     ]
    },
    {
     "name": "stderr",
     "output_type": "stream",
     "text": [
      "17:18:11 - cmdstanpy - INFO - Chain [1] start processing\n",
      "17:18:12 - cmdstanpy - INFO - Chain [1] done processing\n"
     ]
    },
    {
     "name": "stdout",
     "output_type": "stream",
     "text": [
      "Train-Test ratio:3.0012966804979255 achieved MAE 43.1546901223127\n"
     ]
    },
    {
     "name": "stderr",
     "output_type": "stream",
     "text": [
      "17:18:13 - cmdstanpy - INFO - Chain [1] start processing\n",
      "17:18:14 - cmdstanpy - INFO - Chain [1] done processing\n"
     ]
    },
    {
     "name": "stdout",
     "output_type": "stream",
     "text": [
      "Train-Test ratio:4.0012966804979255 achieved MAE 45.168879365594584\n"
     ]
    },
    {
     "name": "stderr",
     "output_type": "stream",
     "text": [
      "17:18:15 - cmdstanpy - INFO - Chain [1] start processing\n",
      "17:18:17 - cmdstanpy - INFO - Chain [1] done processing\n"
     ]
    },
    {
     "name": "stdout",
     "output_type": "stream",
     "text": [
      "Train-Test ratio:5.0012966804979255 achieved MAE 31.211890623073625\n",
      "Done creating a linear regression model!\n"
     ]
    }
   ],
   "source": [
    "df = ml.data.get_training_flattened()\n",
    "for location in ['A', 'B', 'C']:\n",
    "    temp_df = df[df['location']==location]\n",
    "\n",
    "    if location\n",
    "    temp_df = temp_df[df.weather_data_type == 'observed']\n",
    "\n",
    "    lr = ProphetModel()\n",
    "    lr.test(temp_df)\n",
    "\n",
    "print(\"Done creating a linear regression model!\")"
   ]
  },
  {
   "cell_type": "code",
   "execution_count": 5,
   "metadata": {},
   "outputs": [
    {
     "name": "stderr",
     "output_type": "stream",
     "text": [
      "17:14:37 - cmdstanpy - INFO - Chain [1] start processing\n"
     ]
    },
    {
     "name": "stdout",
     "output_type": "stream",
     "text": [
      "Testing Prophet\n"
     ]
    },
    {
     "name": "stderr",
     "output_type": "stream",
     "text": [
      "17:14:37 - cmdstanpy - INFO - Chain [1] done processing\n"
     ]
    },
    {
     "name": "stdout",
     "output_type": "stream",
     "text": [
      "Train-Test ratio:1.0008809020436928 achieved MAE 346.8157370892518\n"
     ]
    },
    {
     "name": "stderr",
     "output_type": "stream",
     "text": [
      "17:14:39 - cmdstanpy - INFO - Chain [1] start processing\n",
      "17:14:39 - cmdstanpy - INFO - Chain [1] done processing\n"
     ]
    },
    {
     "name": "stdout",
     "output_type": "stream",
     "text": [
      "Train-Test ratio:2.0008809020436926 achieved MAE 387.6145769442664\n"
     ]
    },
    {
     "name": "stderr",
     "output_type": "stream",
     "text": [
      "17:14:41 - cmdstanpy - INFO - Chain [1] start processing\n",
      "17:14:42 - cmdstanpy - INFO - Chain [1] done processing\n"
     ]
    },
    {
     "name": "stdout",
     "output_type": "stream",
     "text": [
      "Train-Test ratio:3.0008809020436926 achieved MAE 410.0770603400472\n"
     ]
    },
    {
     "name": "stderr",
     "output_type": "stream",
     "text": [
      "17:14:44 - cmdstanpy - INFO - Chain [1] start processing\n",
      "17:14:46 - cmdstanpy - INFO - Chain [1] done processing\n"
     ]
    },
    {
     "name": "stdout",
     "output_type": "stream",
     "text": [
      "Train-Test ratio:4.000880902043693 achieved MAE 336.8192848425941\n"
     ]
    },
    {
     "name": "stderr",
     "output_type": "stream",
     "text": [
      "17:14:48 - cmdstanpy - INFO - Chain [1] start processing\n",
      "17:14:50 - cmdstanpy - INFO - Chain [1] done processing\n",
      "17:14:52 - cmdstanpy - INFO - Chain [1] start processing\n"
     ]
    },
    {
     "name": "stdout",
     "output_type": "stream",
     "text": [
      "Train-Test ratio:5.000880902043693 achieved MAE 249.19093592890155\n",
      "Testing Prophet\n"
     ]
    },
    {
     "name": "stderr",
     "output_type": "stream",
     "text": [
      "17:14:52 - cmdstanpy - INFO - Chain [1] done processing\n"
     ]
    },
    {
     "name": "stdout",
     "output_type": "stream",
     "text": [
      "Train-Test ratio:1.0009142439202778 achieved MAE 62.316077008302024\n"
     ]
    },
    {
     "name": "stderr",
     "output_type": "stream",
     "text": [
      "17:14:53 - cmdstanpy - INFO - Chain [1] start processing\n",
      "17:14:54 - cmdstanpy - INFO - Chain [1] done processing\n"
     ]
    },
    {
     "name": "stdout",
     "output_type": "stream",
     "text": [
      "Train-Test ratio:2.000914243920278 achieved MAE 130.35720074626607\n"
     ]
    },
    {
     "name": "stderr",
     "output_type": "stream",
     "text": [
      "17:14:55 - cmdstanpy - INFO - Chain [1] start processing\n",
      "17:14:56 - cmdstanpy - INFO - Chain [1] done processing\n"
     ]
    },
    {
     "name": "stdout",
     "output_type": "stream",
     "text": [
      "Train-Test ratio:3.000914243920278 achieved MAE 84.16510888676031\n"
     ]
    },
    {
     "name": "stderr",
     "output_type": "stream",
     "text": [
      "17:14:58 - cmdstanpy - INFO - Chain [1] start processing\n",
      "17:15:01 - cmdstanpy - INFO - Chain [1] done processing\n"
     ]
    },
    {
     "name": "stdout",
     "output_type": "stream",
     "text": [
      "Train-Test ratio:4.000914243920278 achieved MAE 74.33771923582101\n"
     ]
    },
    {
     "name": "stderr",
     "output_type": "stream",
     "text": [
      "17:15:03 - cmdstanpy - INFO - Chain [1] start processing\n",
      "17:15:08 - cmdstanpy - INFO - Chain [1] done processing\n",
      "17:15:09 - cmdstanpy - INFO - Chain [1] start processing\n"
     ]
    },
    {
     "name": "stdout",
     "output_type": "stream",
     "text": [
      "Train-Test ratio:5.000914243920278 achieved MAE 66.5601819986914\n",
      "Testing Prophet\n"
     ]
    },
    {
     "name": "stderr",
     "output_type": "stream",
     "text": [
      "17:15:09 - cmdstanpy - INFO - Chain [1] done processing\n",
      "17:15:10 - cmdstanpy - INFO - Chain [1] start processing\n"
     ]
    },
    {
     "name": "stdout",
     "output_type": "stream",
     "text": [
      "Train-Test ratio:1.000230149597238 achieved MAE 187.0254253591293\n"
     ]
    },
    {
     "name": "stderr",
     "output_type": "stream",
     "text": [
      "17:15:11 - cmdstanpy - INFO - Chain [1] done processing\n"
     ]
    },
    {
     "name": "stdout",
     "output_type": "stream",
     "text": [
      "Train-Test ratio:2.0002301495972383 achieved MAE 25.66748639366984\n"
     ]
    },
    {
     "name": "stderr",
     "output_type": "stream",
     "text": [
      "17:15:12 - cmdstanpy - INFO - Chain [1] start processing\n",
      "17:15:13 - cmdstanpy - INFO - Chain [1] done processing\n"
     ]
    },
    {
     "name": "stdout",
     "output_type": "stream",
     "text": [
      "Train-Test ratio:3.0002301495972383 achieved MAE 66.69101794748853\n"
     ]
    },
    {
     "name": "stderr",
     "output_type": "stream",
     "text": [
      "17:15:14 - cmdstanpy - INFO - Chain [1] start processing\n",
      "17:15:15 - cmdstanpy - INFO - Chain [1] done processing\n"
     ]
    },
    {
     "name": "stdout",
     "output_type": "stream",
     "text": [
      "Train-Test ratio:4.000230149597238 achieved MAE 40.265174080928304\n"
     ]
    },
    {
     "name": "stderr",
     "output_type": "stream",
     "text": [
      "17:15:17 - cmdstanpy - INFO - Chain [1] start processing\n",
      "17:15:18 - cmdstanpy - INFO - Chain [1] done processing\n"
     ]
    },
    {
     "name": "stdout",
     "output_type": "stream",
     "text": [
      "Train-Test ratio:5.000230149597238 achieved MAE 40.7065991885315\n",
      "Done creating a linear regression model!\n"
     ]
    }
   ],
   "source": [
    "df = ml.data.get_training_flattened()\n",
    "for location in ['A', 'B', 'C']:\n",
    "    temp_df = df[df['location']==location]\n",
    "\n",
    "    lr = ProphetModel()\n",
    "    lr.test(temp_df)\n",
    "\n",
    "print(\"Done creating a linear regression model!\")"
   ]
  },
  {
   "cell_type": "code",
   "execution_count": 5,
   "metadata": {},
   "outputs": [
    {
     "name": "stdout",
     "output_type": "stream",
     "text": [
      "Testing Prophet\n"
     ]
    },
    {
     "name": "stderr",
     "output_type": "stream",
     "text": [
      "17:10:55 - cmdstanpy - INFO - Chain [1] start processing\n",
      "17:10:57 - cmdstanpy - INFO - Chain [1] done processing\n"
     ]
    },
    {
     "name": "stdout",
     "output_type": "stream",
     "text": [
      "Train-Test ratio:1.0008809020436928 achieved MAE 1001.912401260542\n"
     ]
    },
    {
     "name": "stderr",
     "output_type": "stream",
     "text": [
      "17:10:58 - cmdstanpy - INFO - Chain [1] start processing\n",
      "17:11:02 - cmdstanpy - INFO - Chain [1] done processing\n"
     ]
    },
    {
     "name": "stdout",
     "output_type": "stream",
     "text": [
      "Train-Test ratio:2.0008809020436926 achieved MAE 388.76839139698046\n"
     ]
    },
    {
     "name": "stderr",
     "output_type": "stream",
     "text": [
      "17:11:05 - cmdstanpy - INFO - Chain [1] start processing\n",
      "17:11:13 - cmdstanpy - INFO - Chain [1] done processing\n"
     ]
    },
    {
     "name": "stdout",
     "output_type": "stream",
     "text": [
      "Train-Test ratio:3.0008809020436926 achieved MAE 291.53059634862115\n"
     ]
    },
    {
     "name": "stderr",
     "output_type": "stream",
     "text": [
      "17:11:16 - cmdstanpy - INFO - Chain [1] start processing\n",
      "17:11:27 - cmdstanpy - INFO - Chain [1] done processing\n"
     ]
    },
    {
     "name": "stdout",
     "output_type": "stream",
     "text": [
      "Train-Test ratio:4.000880902043693 achieved MAE 307.89472198692846\n"
     ]
    },
    {
     "name": "stderr",
     "output_type": "stream",
     "text": [
      "17:11:30 - cmdstanpy - INFO - Chain [1] start processing\n",
      "17:11:46 - cmdstanpy - INFO - Chain [1] done processing\n"
     ]
    },
    {
     "name": "stdout",
     "output_type": "stream",
     "text": [
      "Train-Test ratio:5.000880902043693 achieved MAE 217.6126790617286\n",
      "Testing Prophet\n"
     ]
    },
    {
     "name": "stderr",
     "output_type": "stream",
     "text": [
      "17:11:48 - cmdstanpy - INFO - Chain [1] start processing\n",
      "17:11:50 - cmdstanpy - INFO - Chain [1] done processing\n"
     ]
    },
    {
     "name": "stdout",
     "output_type": "stream",
     "text": [
      "Train-Test ratio:1.0009142439202778 achieved MAE 50.58414183261134\n"
     ]
    },
    {
     "name": "stderr",
     "output_type": "stream",
     "text": [
      "17:11:51 - cmdstanpy - INFO - Chain [1] start processing\n",
      "17:11:53 - cmdstanpy - INFO - Chain [1] done processing\n"
     ]
    },
    {
     "name": "stdout",
     "output_type": "stream",
     "text": [
      "Train-Test ratio:2.000914243920278 achieved MAE 112.94381123760922\n"
     ]
    },
    {
     "name": "stderr",
     "output_type": "stream",
     "text": [
      "17:11:55 - cmdstanpy - INFO - Chain [1] start processing\n",
      "17:12:05 - cmdstanpy - INFO - Chain [1] done processing\n"
     ]
    },
    {
     "name": "stdout",
     "output_type": "stream",
     "text": [
      "Train-Test ratio:3.000914243920278 achieved MAE 61.44260600484563\n"
     ]
    },
    {
     "name": "stderr",
     "output_type": "stream",
     "text": [
      "17:12:08 - cmdstanpy - INFO - Chain [1] start processing\n",
      "17:12:22 - cmdstanpy - INFO - Chain [1] done processing\n"
     ]
    },
    {
     "name": "stdout",
     "output_type": "stream",
     "text": [
      "Train-Test ratio:4.000914243920278 achieved MAE 69.89327334429775\n"
     ]
    },
    {
     "name": "stderr",
     "output_type": "stream",
     "text": [
      "17:12:25 - cmdstanpy - INFO - Chain [1] start processing\n",
      "17:12:38 - cmdstanpy - INFO - Chain [1] done processing\n"
     ]
    },
    {
     "name": "stdout",
     "output_type": "stream",
     "text": [
      "Train-Test ratio:5.000914243920278 achieved MAE 58.440387024762\n",
      "Testing Prophet\n"
     ]
    },
    {
     "name": "stderr",
     "output_type": "stream",
     "text": [
      "17:12:39 - cmdstanpy - INFO - Chain [1] start processing\n",
      "17:12:41 - cmdstanpy - INFO - Chain [1] done processing\n"
     ]
    },
    {
     "name": "stdout",
     "output_type": "stream",
     "text": [
      "Train-Test ratio:1.000230149597238 achieved MAE 108.51998811398929\n"
     ]
    },
    {
     "name": "stderr",
     "output_type": "stream",
     "text": [
      "17:12:42 - cmdstanpy - INFO - Chain [1] start processing\n",
      "17:12:44 - cmdstanpy - INFO - Chain [1] done processing\n"
     ]
    },
    {
     "name": "stdout",
     "output_type": "stream",
     "text": [
      "Train-Test ratio:2.0002301495972383 achieved MAE 22.394501433425027\n"
     ]
    },
    {
     "name": "stderr",
     "output_type": "stream",
     "text": [
      "17:12:46 - cmdstanpy - INFO - Chain [1] start processing\n",
      "17:12:50 - cmdstanpy - INFO - Chain [1] done processing\n"
     ]
    },
    {
     "name": "stdout",
     "output_type": "stream",
     "text": [
      "Train-Test ratio:3.0002301495972383 achieved MAE 51.964037558679074\n"
     ]
    },
    {
     "name": "stderr",
     "output_type": "stream",
     "text": [
      "17:12:52 - cmdstanpy - INFO - Chain [1] start processing\n",
      "17:12:58 - cmdstanpy - INFO - Chain [1] done processing\n"
     ]
    },
    {
     "name": "stdout",
     "output_type": "stream",
     "text": [
      "Train-Test ratio:4.000230149597238 achieved MAE 17.915246479800565\n"
     ]
    },
    {
     "name": "stderr",
     "output_type": "stream",
     "text": [
      "17:13:01 - cmdstanpy - INFO - Chain [1] start processing\n",
      "17:13:06 - cmdstanpy - INFO - Chain [1] done processing\n"
     ]
    },
    {
     "name": "stdout",
     "output_type": "stream",
     "text": [
      "Train-Test ratio:5.000230149597238 achieved MAE 37.05218943905769\n",
      "Done creating a linear regression model!\n"
     ]
    }
   ],
   "source": [
    "\n",
    "df = ml.data.get_training_flattened()\n",
    "for location in ['A', 'B', 'C']:\n",
    "    temp_df = df[df['location']==location]\n",
    "\n",
    "    lr = ProphetModel()\n",
    "    lr.test(temp_df)\n",
    "\n",
    "print(\"Done creating a linear regression model!\")"
   ]
  }
 ],
 "metadata": {
  "kernelspec": {
   "display_name": "Python 3",
   "language": "python",
   "name": "python3"
  },
  "language_info": {
   "codemirror_mode": {
    "name": "ipython",
    "version": 3
   },
   "file_extension": ".py",
   "mimetype": "text/x-python",
   "name": "python",
   "nbconvert_exporter": "python",
   "pygments_lexer": "ipython3",
   "version": "3.10.7"
  },
  "orig_nbformat": 4
 },
 "nbformat": 4,
 "nbformat_minor": 2
}
