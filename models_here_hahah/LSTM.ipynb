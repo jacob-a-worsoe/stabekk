{
 "cells": [
  {
   "cell_type": "code",
   "execution_count": 5,
   "metadata": {},
   "outputs": [
    {
     "name": "stdout",
     "output_type": "stream",
     "text": [
      "c:\\Users\\Henrik\\Dropbox\\NTNU\\Fall 2023\\TDT4173 - Machine Learning\\Exercises\\Group Exercise\\stabekk\\models_here_hahah\n"
     ]
    }
   ],
   "source": [
    "# In module1.py\n",
    "import sys\n",
    "import os\n",
    "\n",
    "# Change working directory\n",
    "os.chdir(f'{os.getcwd()}/..')\n",
    "\n",
    "# Add the parent directory of ml_combat to sys.path\n",
    "sys.path.append(f'{os.getcwd()}/../ml_combat')\n",
    "\n",
    "\n",
    "# Now you can import from ml_combat\n",
    "import ml_combat as ml\n",
    "from ml_combat.MetaModel import MetaModel"
   ]
  },
  {
   "cell_type": "code",
   "execution_count": 7,
   "metadata": {},
   "outputs": [],
   "source": [
    "import pandas as pd\n",
    "from sklearn.linear_model import LinearRegression\n",
    "import numpy as np\n",
    "\n",
    "import ml_combat as ml\n",
    "from MetaModel import MetaModel"
   ]
  },
  {
   "cell_type": "code",
   "execution_count": 8,
   "metadata": {},
   "outputs": [],
   "source": [
    "df_train = ml.data.get_training_flattened()\n",
    "df_test = ml.data.get_testing_flattened()"
   ]
  },
  {
   "cell_type": "code",
   "execution_count": 9,
   "metadata": {},
   "outputs": [],
   "source": [
    "from keras.layers import LSTM\n",
    "from keras.layers import Dense"
   ]
  },
  {
   "cell_type": "code",
   "execution_count": 10,
   "metadata": {},
   "outputs": [],
   "source": [
    "class LSTM(MetaModel):\n",
    "    def __init__(self):\n",
    "        super().__init__(\"LSTM\")\n",
    "        \n",
    "    def preprocess(self, df):\n",
    "        \"\"\"\n",
    "        \"\"\"\n",
    "        temp_df = df.copy()\n",
    "\n",
    "        temp_df['total_rad_1h:J'] = df['diffuse_rad_1h:J'] + df['direct_rad_1h:J']\n",
    "\n",
    "        temp_df = temp_df.dropna(axis=0, how=\"all\", subset=\"total_rad_1h:J\")\n",
    "\n",
    "        if('y' in temp_df.columns.tolist()):\n",
    "            temp_df = temp_df.dropna(axis=0, how=\"all\", subset=\"y\")\n",
    "\n",
    "        return temp_df\n",
    "\n",
    "    def train(self, df):\n",
    "        \"\"\"\n",
    "        \"\"\"\n",
    "        df = self.preprocess(df)\n",
    "\n",
    "\n",
    "    def predict(self, df):\n",
    "        \"\"\"\n",
    "        \"\"\"\n",
    "        df = self.preprocess(df)\n",
    "\n",
    "        ##### y_preds = self.model.predict(df['total_rad_1h:J'].values.reshape(-1, 1))\n",
    "        #y_preds_arr = np.array(y_preds)\n",
    "        #out_df = pd.DataFrame(y_preds_arr, columns=[\"y_pred\"])        \n",
    "        return out_df"
   ]
  }
 ],
 "metadata": {
  "kernelspec": {
   "display_name": "Python 3",
   "language": "python",
   "name": "python3"
  },
  "language_info": {
   "codemirror_mode": {
    "name": "ipython",
    "version": 3
   },
   "file_extension": ".py",
   "mimetype": "text/x-python",
   "name": "python",
   "nbconvert_exporter": "python",
   "pygments_lexer": "ipython3",
   "version": "3.10.7"
  }
 },
 "nbformat": 4,
 "nbformat_minor": 2
}
