{
 "cells": [
  {
   "cell_type": "code",
   "execution_count": 1,
   "metadata": {},
   "outputs": [],
   "source": [
    "import ml_combat as ml\n",
    "from ml_combat import data"
   ]
  },
  {
   "cell_type": "code",
   "execution_count": 2,
   "metadata": {},
   "outputs": [],
   "source": [
    "ml.models.naive.fit(ml.data.get_training_groupby_mean())\n",
    "y_pred = ml.models.naive.predict(ml.data.get_testing())\n",
    "y_pred = ml.models.naive.predict(y_pred)\n",
    "y_pred.to_csv('submissions/test1.csv', index=False)"
   ]
  },
  {
   "cell_type": "code",
   "execution_count": 3,
   "metadata": {},
   "outputs": [
    {
     "data": {
      "text/plain": [
       "location  datetime           \n",
       "A         2023-05-01 00:00:00    630.594707\n",
       "          2023-05-01 01:00:00    630.594707\n",
       "          2023-05-01 02:00:00    630.594707\n",
       "          2023-05-01 03:00:00    630.594707\n",
       "          2023-05-01 04:00:00    630.594707\n",
       "                                    ...    \n",
       "C         2023-07-03 19:00:00     77.631060\n",
       "          2023-07-03 20:00:00     77.631060\n",
       "          2023-07-03 21:00:00     77.631060\n",
       "          2023-07-03 22:00:00     77.631060\n",
       "          2023-07-03 23:00:00     77.631060\n",
       "Name: (y, NA, pv_measurement), Length: 2160, dtype: float64"
      ]
     },
     "execution_count": 3,
     "metadata": {},
     "output_type": "execute_result"
    }
   ],
   "source": [
    "y_pred"
   ]
  },
  {
   "cell_type": "code",
   "execution_count": 4,
   "metadata": {},
   "outputs": [],
   "source": [
    "train = ml.data.get_training_groupby_mean()\n",
    "train.head(1)\n",
    "res_dict = {}\n",
    "for loc in train.index.get_level_values('location').unique():\n",
    "    res_dict[loc] = train.loc[loc]['y', 'pv_measurement'].mean()\n",
    "\n",
    "y_pred = ml.data.get_testing()\n",
    "y_pred['y', 'NA', 'pv_measurement'] = 0\n",
    "\n",
    "for loc in train.index.get_level_values('location').unique():\n",
    "    y_pred.loc[(loc, ), ('y', 'NA', 'pv_measurement')] = res_dict[loc]\n",
    "\n",
    "\n",
    "y_pred = y_pred[[['y', 'NA', 'pv_measurement']]].reset_index()\n",
    "y_pred.columns = ['location', 'datetime', 'prediction']\n",
    "\n",
    "y_pred = y_pred[['prediction']].reset_index().rename(columns={'index': 'id'})\n",
    "y_pred.to_csv('submissions/test1.csv', index=False)\n"
   ]
  }
 ],
 "metadata": {
  "kernelspec": {
   "display_name": "Python 3",
   "language": "python",
   "name": "python3"
  },
  "language_info": {
   "codemirror_mode": {
    "name": "ipython",
    "version": 3
   },
   "file_extension": ".py",
   "mimetype": "text/x-python",
   "name": "python",
   "nbconvert_exporter": "python",
   "pygments_lexer": "ipython3",
   "version": "3.10.7"
  },
  "orig_nbformat": 4
 },
 "nbformat": 4,
 "nbformat_minor": 2
}
